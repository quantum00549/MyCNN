{
 "cells": [
  {
   "cell_type": "code",
   "execution_count": null,
   "metadata": {},
   "outputs": [],
   "source": [
    "# -*- coding:utf-8 -*-\n",
    "\"\"\"\n",
    "@author:          Bin.Chen\n",
    "@date:             2019/07/15\n",
    "@software:       Jupyter Notebook\n",
    "@Environment : python3.6\n",
    "@Description:    将mnist数据集写入TFRecord文件\n",
    "\"\"\""
   ]
  },
  {
   "cell_type": "code",
   "execution_count": null,
   "metadata": {},
   "outputs": [],
   "source": [
    "import numpy as np\n",
    "import tensorflow as tf\n",
    "from tensorflow.examples.tutorials.mnist import input_data"
   ]
  },
  {
   "cell_type": "code",
   "execution_count": null,
   "metadata": {},
   "outputs": [],
   "source": [
    "def _int64_feature(value):\n",
    "    return tf.train.Feature(\n",
    "        int64_list=tf.train.Int64List(value=[value])\n",
    "    )\n",
    "# 生成整数型的属性\n",
    "def _float_feature(value):\n",
    "    return tf.train.Feature(\n",
    "        float_list=tf.train.FloatList(value=[value])\n",
    "    )\n",
    "# 生成实数型的属性，若想保存为数组，则要改成value=value即可\n",
    "def _bytes_feature(value):\n",
    "    return tf.train.Feature(\n",
    "        bytes_list=tf.train.BytesList(value=[value])\n",
    "    )\n",
    "# 生成字符串型的属性"
   ]
  },
  {
   "cell_type": "code",
   "execution_count": null,
   "metadata": {},
   "outputs": [],
   "source": [
    "mnist = input_data.read_data_sets('./mnist/data',one_hot=True)\n",
    "images = mnist.train.images\n",
    "labels = mnist.train.labels\n",
    "pixels = images.shape[1]\n",
    "num_shards = 5\n",
    "instances_per_shard = 2000\n",
    "for i in range(num_shards):\n",
    "    filename = ('./record/mnist_train%.5d_of_%.5d.tfrecords'%(i,num_shards))\n",
    "    writer = tf.python_io.TFRecordWriter(filename)\n",
    "    for index in range(i*instances_per_shard,min((i+1)*instances_per_shard,mnist.train.num_examples)):\n",
    "        image_raw = images[index].tostring()\n",
    "        example = tf.train.Example(\n",
    "            features=tf.train.Features(\n",
    "                feature={\n",
    "                    'pixels':tf.train.Feature(int64_list=tf.train.Int64List(value=[pixels])),\n",
    "                    'label':tf.train.Feature(float_list=tf.train.FloatList(value=labels[index])),\n",
    "                    'image_raw':tf.train.Feature(bytes_list=tf.train.BytesList(value=[image_raw]))\n",
    "                }\n",
    "                                      )\n",
    "                                  )       \n",
    "        writer.write(example.SerializeToString())\n",
    "    writer.close()\n",
    "        "
   ]
  },
  {
   "cell_type": "code",
   "execution_count": null,
   "metadata": {},
   "outputs": [],
   "source": [
    "# mnist = input_data.read_data_sets('./mnist/data',one_hot=True)\n",
    "# images = mnist.train.images\n",
    "# labels = mnist.train.labels\n",
    "# pixels = images.shape[1]\n",
    "# num_examples = mnist.train.num_examples\n",
    "# file = './record/mnist_train.tfrecords'\n",
    "# writer = tf.python_io.TFRecordWriter(file)\n",
    "# for index in range(num_examples):\n",
    "#     image_raw = images[index].tostring()\n",
    "#     example = tf.train.Example(\n",
    "#         features=tf.train.Features(\n",
    "#             feature={\n",
    "#                 'pixels':tf.train.Feature(int64_list=tf.train.Int64List(value=[pixels])),\n",
    "#                 'label':tf.train.Feature(float_list=tf.train.FloatList(value=labels[index])),\n",
    "#                 'image_raw':tf.train.Feature(bytes_list=tf.train.BytesList(value=[image_raw]))\n",
    "#             }\n",
    "#                                   )\n",
    "#                               )\n",
    "#     writer.write(example.SerializeToString())\n",
    "# writer.close()"
   ]
  },
  {
   "cell_type": "code",
   "execution_count": null,
   "metadata": {},
   "outputs": [],
   "source": [
    "file = './record/mnist_test.tfrecords'\n",
    "images = mnist.test.images\n",
    "labels = mnist.test.labels\n",
    "pixels = images.shape[1]\n",
    "num_examples = mnist.test.num_examples\n",
    "writer = tf.python_io.TFRecordWriter(file)\n",
    "for index in range(num_examples):\n",
    "    image_raw = images[index].tostring()\n",
    "    example = tf.train.Example(\n",
    "        features=tf.train.Features(\n",
    "            feature={\n",
    "                'pixels':tf.train.Feature(int64_list=tf.train.Int64List(value=[pixels])),\n",
    "                'label':tf.train.Feature(float_list=tf.train.FloatList(value=labels[index])),\n",
    "                'image_raw':tf.train.Feature(bytes_list=tf.train.BytesList(value=[image_raw]))\n",
    "            }\n",
    "                                  )\n",
    "                              )\n",
    "    writer.write(example.SerializeToString())\n",
    "writer.close()"
   ]
  }
 ],
 "metadata": {
  "kernelspec": {
   "display_name": "Python 3",
   "language": "python",
   "name": "python3"
  },
  "language_info": {
   "codemirror_mode": {
    "name": "ipython",
    "version": 3
   },
   "file_extension": ".py",
   "mimetype": "text/x-python",
   "name": "python",
   "nbconvert_exporter": "python",
   "pygments_lexer": "ipython3",
   "version": "3.6.8"
  }
 },
 "nbformat": 4,
 "nbformat_minor": 2
}
