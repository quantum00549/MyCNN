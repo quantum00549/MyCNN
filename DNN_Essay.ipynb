{
 "cells": [
  {
   "cell_type": "code",
   "execution_count": 1,
   "metadata": {},
   "outputs": [
    {
     "data": {
      "text/plain": [
       "'\\n@author:          Bin.Chen\\n@date:             2019/07/08 \\n@software:       Jupyter Notebook\\n@Environment : python3.6\\n@Description:    CNN框架，力求网络结构完全可控\\n'"
      ]
     },
     "execution_count": 1,
     "metadata": {},
     "output_type": "execute_result"
    }
   ],
   "source": [
    "# -*- coding:utf-8 -*-\n",
    "\"\"\"\n",
    "@author:          Bin.Chen\n",
    "@date:             2019/07/08 \n",
    "@software:       Jupyter Notebook\n",
    "@Environment : python3.6\n",
    "@Description:    CNN框架，力求网络结构完全可控\n",
    "\"\"\""
   ]
  },
  {
   "cell_type": "code",
   "execution_count": 2,
   "metadata": {},
   "outputs": [],
   "source": [
    "import numpy as np\n",
    "import tensorflow as tf"
   ]
  },
  {
   "cell_type": "code",
   "execution_count": 3,
   "metadata": {},
   "outputs": [],
   "source": [
    "def full_connected(input_tensor,hidden_layer,regularizer=None,dropout=None,reuse=False):\n",
    "    \"\"\"\n",
    "    全连接层的计算\n",
    "    :input_tensor:           输入数据，矩阵，形如[[1,2],[3,4]]表示矩阵第一行为[1,2]，第二行为[3,4]\n",
    "    :param hidden_layer: 隐藏层结构，列表，例：[3,4]表示第一个隐藏层有3个节点，第二个隐藏层有4个节点，以此类推，可自行增减，\n",
    "                                 所谓隐藏层，不包含输入层，但包含输出层，调整参数时注意最后一层节点个数\n",
    "    :return:                    经计算后的输出\n",
    "    \"\"\"\n",
    "    layer = input_tensor\n",
    "    for i in range(1,len(hidden_layer)+1):\n",
    "        with tf.variable_scope('layer{}'.format(i),reuse=reuse):\n",
    "            weights = tf.get_variable(\n",
    "                'weights',shape=[layer.shape[1],hidden_layer[i-1]],initializer=tf.truncated_normal_initializer(mean=0,stddev=0.1,seed=1)\n",
    "            )\n",
    "            if regularizer != None:\n",
    "                tf.add_to_collection('losses',regularizer(weights))\n",
    "            biases = tf.get_variable(\n",
    "                'bias',shape=[hidden_layer[i-1]],initializer=tf.constant_initializer(0.1)\n",
    "            )\n",
    "            layer = tf.nn.tanh(\n",
    "                tf.matmul(layer,weights)+biases\n",
    "            )\n",
    "            if dropout != None:\n",
    "                layer = tf.nn.dropout(layer,dropout[0],noise_shape=dropout[1])\n",
    "    return layer\n"
   ]
  },
  {
   "cell_type": "code",
   "execution_count": 4,
   "metadata": {},
   "outputs": [],
   "source": [
    "def conv(input_tensor,structure,reuse=False):\n",
    "    \"\"\"\n",
    "    卷积和池化层的计算\n",
    "    :input_tensor:           输入数据\n",
    "    :param structure:      形如\n",
    "                                                        structure = {\n",
    "                                                    1:{\n",
    "                                                        'conv':{'filter':[5,5,3,16],'stride':[1,1,1,1],'padding':'SAME'},\n",
    "                                                        'pool':{'filter':[1,3,3,1],'stride':[1,2,2,1],'padding':'SAME'}\n",
    "                                                    }\n",
    "                                                }\n",
    "                                    直接将其复制粘贴，1表示第一层卷积层结构，如需要多层卷积，加2，3。。。照搬格式即可，\n",
    "                                    conv对应的filter为卷积过滤器尺寸、当前层深度、过滤器深度，当前层深度初值为图形数据的深度，\n",
    "                                    如果有多层卷积，注意structure中当前层深度等于前一层的过滤器深度,\n",
    "                                    stride首尾为1，不可更改，中间俩表示长宽维度上的步长，\n",
    "                                    padding表示是否使用全零填充，SAME或者VALID\n",
    "                                    pool对应的filter为池化过滤器尺寸，首尾必须为1，stride意义同上，\n",
    "                                    如果没有池化层，删去'pool'对应的字典即可\n",
    "    :return:                    经计算后的输出\n",
    "    \"\"\"\n",
    "    clayer = input_tensor\n",
    "    for i in range(1,len(structure)+1):\n",
    "        with tf.variable_scope('clayer{}'.format(i),reuse=reuse):\n",
    "            filter_weight = tf.get_variable(\n",
    "                'weights',structure[i]['conv']['filter'],initializer=tf.truncated_normal_initializer(mean=0,stddev=0.1,seed=1)\n",
    "            )\n",
    "            biases = tf.get_variable(\n",
    "                'biases',[structure[i]['conv']['filter'][3]],initializer=tf.constant_initializer(0.1)\n",
    "            )\n",
    "            conv = tf.nn.conv2d(\n",
    "                clayer,filter_weight,structure[i]['conv']['stride'],padding=structure[i]['conv']['padding']\n",
    "            )\n",
    "            bias = tf.nn.bias_add(conv,biases)\n",
    "            activated_conv = tf.nn.tanh(bias)\n",
    "            if 'pool' in structure[i]:\n",
    "                pool = tf.nn.max_pool(\n",
    "                    activated_conv,ksize=structure[i]['pool']['filter'],strides=structure[i]['pool']['stride'],\n",
    "                    padding=structure[i]['conv']['padding']\n",
    "                )\n",
    "                clayer = pool\n",
    "            else:\n",
    "                clayer = activated_conv\n",
    "    return clayer"
   ]
  },
  {
   "cell_type": "code",
   "execution_count": 5,
   "metadata": {},
   "outputs": [
    {
     "name": "stdout",
     "output_type": "stream",
     "text": [
      "WARNING:tensorflow:From <ipython-input-5-1aacba0c19ae>:2: read_data_sets (from tensorflow.contrib.learn.python.learn.datasets.mnist) is deprecated and will be removed in a future version.\n",
      "Instructions for updating:\n",
      "Please use alternatives such as official/mnist/dataset.py from tensorflow/models.\n",
      "WARNING:tensorflow:From C:\\Anaconda3\\envs\\py36\\lib\\site-packages\\tensorflow\\contrib\\learn\\python\\learn\\datasets\\mnist.py:260: maybe_download (from tensorflow.contrib.learn.python.learn.datasets.base) is deprecated and will be removed in a future version.\n",
      "Instructions for updating:\n",
      "Please write your own downloading logic.\n",
      "WARNING:tensorflow:From C:\\Anaconda3\\envs\\py36\\lib\\site-packages\\tensorflow\\contrib\\learn\\python\\learn\\datasets\\mnist.py:262: extract_images (from tensorflow.contrib.learn.python.learn.datasets.mnist) is deprecated and will be removed in a future version.\n",
      "Instructions for updating:\n",
      "Please use tf.data to implement this functionality.\n",
      "Extracting ./mnist/data\\train-images-idx3-ubyte.gz\n",
      "WARNING:tensorflow:From C:\\Anaconda3\\envs\\py36\\lib\\site-packages\\tensorflow\\contrib\\learn\\python\\learn\\datasets\\mnist.py:267: extract_labels (from tensorflow.contrib.learn.python.learn.datasets.mnist) is deprecated and will be removed in a future version.\n",
      "Instructions for updating:\n",
      "Please use tf.data to implement this functionality.\n",
      "Extracting ./mnist/data\\train-labels-idx1-ubyte.gz\n",
      "Extracting ./mnist/data\\t10k-images-idx3-ubyte.gz\n",
      "Extracting ./mnist/data\\t10k-labels-idx1-ubyte.gz\n",
      "WARNING:tensorflow:From C:\\Anaconda3\\envs\\py36\\lib\\site-packages\\tensorflow\\contrib\\learn\\python\\learn\\datasets\\mnist.py:290: DataSet.__init__ (from tensorflow.contrib.learn.python.learn.datasets.mnist) is deprecated and will be removed in a future version.\n",
      "Instructions for updating:\n",
      "Please use alternatives such as official/mnist/dataset.py from tensorflow/models.\n"
     ]
    }
   ],
   "source": [
    "from tensorflow.examples.tutorials.mnist import input_data\n",
    "mnist = input_data.read_data_sets('./mnist/data')\n",
    "data_size = len(mnist.train.images)\n",
    "test_data_size = len(mnist.test.images)\n",
    "image_size = 28\n",
    "channel = 1\n",
    "X_train = np.reshape(mnist.train.images,(data_size,image_size,image_size,channel))\n",
    "Y_train_num = mnist.train.labels\n",
    "Y_train = []\n",
    "for i in Y_train_num:\n",
    "    temp = [0,0,0,0,0,0,0,0,0,0]\n",
    "    temp[i] = 1\n",
    "    Y_train.append(temp)  \n",
    "X_test = np.reshape(mnist.test.images,(test_data_size,image_size,image_size,channel))\n",
    "Y_test = mnist.test.labels\n",
    "\n",
    "tol = 0.0001\n",
    "# 终止条件\n",
    "batch_size = int(0.9*data_size)\n",
    "# 随机梯度下降的一个batch大小，设为1*data_size即为不使用随机梯度下降\n",
    "STEPS = 200\n",
    "# 迭代轮数上限\n",
    "learning_rate_base = 0.7\n",
    "# 初始学习率\n",
    "learning_rate_decay = 0.9\n",
    "# 学习率衰退速度，设为1即为不适用指数衰减法\n",
    "stair_num = 20\n",
    "# 梯形衰退参数，每过stair_num轮迭代，指数衰减一次\n",
    "dropout = [0.2,None]\n",
    "# dropout参数设置，第一个参数表示权重变为0的概率，第二个参数可以使得矩阵的一部分全为0，是一个列表，不需要此功能则为None\n",
    "# 例如：[0.5,None]，也可以是[0.5,[3,1]]\n",
    "# 如果不用dropout功能，dropout = None即可\n",
    "optimizer = 'Adam'\n",
    "# 优化方法选择，可选：Adam, GradientDescent,Momentum\n",
    "hidden_layer = [84,10]\n",
    "# 全连接层的隐藏层结构，参数说明见上文\n",
    "conv_structure = {\n",
    "    1:{\n",
    "        'conv':{'filter':[5,5,1,6],'stride':[1,1,1,1],'padding':'SAME'},\n",
    "        'pool':{'filter':[1,2,2,1],'stride':[1,2,2,1],'padding':'SAME'}\n",
    "    },\n",
    "    2:{\n",
    "        'conv':{'filter':[5,5,6,16],'stride':[1,1,1,1],'padding':'SAME'},\n",
    "        'pool':{'filter':[1,2,2,1],'stride':[1,2,2,1],'padding':'SAME'}\n",
    "    }\n",
    "}\n",
    "# 卷积层结构，参数说明见上文\n",
    "regularizer = tf.contrib.layers.l2_regularizer(0.001)\n",
    "# 正则化参数，如需使用L1正则化，将函数名中的2改为1即可"
   ]
  },
  {
   "cell_type": "code",
   "execution_count": 6,
   "metadata": {
    "collapsed": true
   },
   "outputs": [
    {
     "name": "stdout",
     "output_type": "stream",
     "text": [
      "WARNING:tensorflow:From C:\\Anaconda3\\envs\\py36\\lib\\site-packages\\tensorflow\\python\\framework\\op_def_library.py:263: colocate_with (from tensorflow.python.framework.ops) is deprecated and will be removed in a future version.\n",
      "Instructions for updating:\n",
      "Colocations handled automatically by placer.\n",
      "WARNING:tensorflow:From <ipython-input-3-19486f06123a>:24: calling dropout (from tensorflow.python.ops.nn_ops) with keep_prob is deprecated and will be removed in a future version.\n",
      "Instructions for updating:\n",
      "Please use `rate` instead of `keep_prob`. Rate should be set to `rate = 1 - keep_prob`.\n",
      "WARNING:tensorflow:From <ipython-input-6-5a012aefea7c>:11: softmax_cross_entropy_with_logits (from tensorflow.python.ops.nn_ops) is deprecated and will be removed in a future version.\n",
      "Instructions for updating:\n",
      "\n",
      "Future major versions of TensorFlow will allow gradients to flow\n",
      "into the labels input on backprop by default.\n",
      "\n",
      "See `tf.nn.softmax_cross_entropy_with_logits_v2`.\n",
      "\n",
      "0 20.736486\n",
      "10 15.604498\n",
      "20 10.456354\n",
      "30 11.808698\n",
      "40 7.96723\n",
      "50 6.1782546\n",
      "60 6.668642\n",
      "70 7.732251\n",
      "80 5.8408594\n",
      "90 4.603943\n",
      "100 3.9713244\n",
      "110 3.2840233\n",
      "120 3.2707956\n",
      "130 3.1290329\n",
      "140 3.1094031\n",
      "150 3.0778682\n",
      "160 3.073609\n",
      "170 3.0750597\n",
      "180 3.060993\n",
      "190 3.0616088\n",
      "0.1014\n"
     ]
    }
   ],
   "source": [
    "x = tf.placeholder(tf.float32,[None,image_size,image_size,channel],name='x_input')\n",
    "y_ = tf.placeholder(tf.float32,[None,10],name='y_input')\n",
    "clayer = conv(x,structure=conv_structure)\n",
    "pool_shape = clayer.get_shape().as_list()\n",
    "nodes = pool_shape[1]*pool_shape[2]*pool_shape[3]\n",
    "reshaped = tf.reshape(clayer,[-1,nodes])\n",
    "# 因为要使用随机梯度下降，一个batch内数据量不固定，参数-1表示由程序确定第一个维度大小，\n",
    "# 原本用None也行，但是None会报错，应当是新版本有所改变\n",
    "y = full_connected(reshaped,hidden_layer,regularizer,dropout)\n",
    "cost = tf.reduce_mean(\n",
    "    tf.nn.softmax_cross_entropy_with_logits(labels=y_,logits=y)\n",
    ")\n",
    "tf.add_to_collection('losses',cost)\n",
    "loss = tf.add_n(tf.get_collection('losses'))\n",
    "global_step = tf.Variable(0,trainable=False)\n",
    "learning_rate = tf.train.exponential_decay(learning_rate_base,global_step,10,learning_rate_decay,staircase=True)\n",
    "# staircase参数为True表示学习率梯形下降，每过一定轮数迭代乘以learning_rate_decay\n",
    "if optimizer == 'Adam':\n",
    "    train_step = tf.train.AdamOptimizer(learning_rate).minimize(loss,global_step=global_step)\n",
    "elif optimizer == 'GradientDescent':\n",
    "    train_step = tf.train.GradientDescentOptimizer(learning_rate).minimize(loss,global_step=global_step)\n",
    "elif optimizer == 'Momentum':\n",
    "    train_step = tf.train.MomentumOptimizer(learning_rate).minimize(loss,global_step=global_step)\n",
    "total_cross_entropy = []\n",
    "with tf.Session() as sess:\n",
    "    sess.run(tf.global_variables_initializer())\n",
    "    for i in range(STEPS):\n",
    "        start = (i*batch_size)%data_size\n",
    "        end = min(start+batch_size, data_size)\n",
    "        sess.run(train_step,feed_dict={x:X_train[start:end], y_:Y_train[start:end]})\n",
    "        total_cross_entropy.append(sess.run(loss,feed_dict={x:X_train, y_:Y_train}))\n",
    "        if i%10 ==0:\n",
    "            print(i, total_cross_entropy[i])\n",
    "        if i > 0:\n",
    "            if abs(total_cross_entropy[i]-total_cross_entropy[i-1]) <= tol:\n",
    "                break\n",
    "    y_prob = sess.run(tf.nn.softmax(y),feed_dict={x:X_test})\n",
    "    y_label = sess.run(tf.argmax(y_prob,1))\n",
    "    hit = 0\n",
    "    for i in range(test_data_size):\n",
    "        if y_label[i]==Y_test[i]:\n",
    "            hit += 1\n",
    "    accuracy = hit/test_data_size\n",
    "    print(accuracy)\n",
    "    "
   ]
  },
  {
   "cell_type": "code",
   "execution_count": 20,
   "metadata": {},
   "outputs": [
    {
     "name": "stdout",
     "output_type": "stream",
     "text": [
      "0 \n",
      " [0.1247898  0.00084083 0.1247898  0.00084083 0.1247898  0.1247898\n",
      " 0.1247898  0.1247898  0.1247898  0.1247898 ] \n",
      " 9\n"
     ]
    }
   ],
   "source": [
    "i = 9\n",
    "print(y_label[i],'\\n',y_prob[i],'\\n',Y_test[i])"
   ]
  },
  {
   "cell_type": "code",
   "execution_count": null,
   "metadata": {},
   "outputs": [],
   "source": []
  }
 ],
 "metadata": {
  "kernelspec": {
   "display_name": "Python 3",
   "language": "python",
   "name": "python3"
  },
  "language_info": {
   "codemirror_mode": {
    "name": "ipython",
    "version": 3
   },
   "file_extension": ".py",
   "mimetype": "text/x-python",
   "name": "python",
   "nbconvert_exporter": "python",
   "pygments_lexer": "ipython3",
   "version": "3.6.8"
  }
 },
 "nbformat": 4,
 "nbformat_minor": 2
}
